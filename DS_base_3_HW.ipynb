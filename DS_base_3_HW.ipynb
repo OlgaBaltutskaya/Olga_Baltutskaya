{
 "cells": [
  {
   "cell_type": "markdown",
   "id": "44f4f8e5",
   "metadata": {},
   "source": [
    "# Простой генератор данных для домашнего задания\n",
    "Можете побаловаться в генерации и настройках"
   ]
  },
  {
   "cell_type": "code",
   "execution_count": 40,
   "id": "a07b6a13",
   "metadata": {},
   "outputs": [
    {
     "data": {
      "text/html": [
       "<div>\n",
       "<style scoped>\n",
       "    .dataframe tbody tr th:only-of-type {\n",
       "        vertical-align: middle;\n",
       "    }\n",
       "\n",
       "    .dataframe tbody tr th {\n",
       "        vertical-align: top;\n",
       "    }\n",
       "\n",
       "    .dataframe thead th {\n",
       "        text-align: right;\n",
       "    }\n",
       "</style>\n",
       "<table border=\"1\" class=\"dataframe\">\n",
       "  <thead>\n",
       "    <tr style=\"text-align: right;\">\n",
       "      <th></th>\n",
       "      <th>date</th>\n",
       "      <th>group</th>\n",
       "      <th>conversion</th>\n",
       "      <th>LTV</th>\n",
       "    </tr>\n",
       "  </thead>\n",
       "  <tbody>\n",
       "    <tr>\n",
       "      <th>0</th>\n",
       "      <td>2024-02-01</td>\n",
       "      <td>1</td>\n",
       "      <td>0</td>\n",
       "      <td>106.245460</td>\n",
       "    </tr>\n",
       "    <tr>\n",
       "      <th>1</th>\n",
       "      <td>2024-02-01</td>\n",
       "      <td>0</td>\n",
       "      <td>0</td>\n",
       "      <td>116.812134</td>\n",
       "    </tr>\n",
       "    <tr>\n",
       "      <th>2</th>\n",
       "      <td>2024-02-01</td>\n",
       "      <td>1</td>\n",
       "      <td>0</td>\n",
       "      <td>93.494161</td>\n",
       "    </tr>\n",
       "    <tr>\n",
       "      <th>3</th>\n",
       "      <td>2024-02-01</td>\n",
       "      <td>1</td>\n",
       "      <td>0</td>\n",
       "      <td>100.141635</td>\n",
       "    </tr>\n",
       "    <tr>\n",
       "      <th>4</th>\n",
       "      <td>2024-02-01</td>\n",
       "      <td>0</td>\n",
       "      <td>0</td>\n",
       "      <td>59.795667</td>\n",
       "    </tr>\n",
       "  </tbody>\n",
       "</table>\n",
       "</div>"
      ],
      "text/plain": [
       "        date  group  conversion         LTV\n",
       "0 2024-02-01      1           0  106.245460\n",
       "1 2024-02-01      0           0  116.812134\n",
       "2 2024-02-01      1           0   93.494161\n",
       "3 2024-02-01      1           0  100.141635\n",
       "4 2024-02-01      0           0   59.795667"
      ]
     },
     "execution_count": 40,
     "metadata": {},
     "output_type": "execute_result"
    }
   ],
   "source": [
    "import pandas as pd\n",
    "import numpy as np\n",
    "\n",
    "# Настройки для симуляции данных\n",
    "np.random.seed(42)  # Для воспроизводимости результатов\n",
    "num_days = 25\n",
    "min_users_per_day = 134\n",
    "max_users_per_day = 412\n",
    "date_range = pd.date_range(start='2024-02-01', periods=num_days, freq='D')\n",
    "\n",
    "# Генерация количества пользователей в день\n",
    "users_per_day = np.random.randint(min_users_per_day, max_users_per_day + 1, size=num_days)\n",
    "\n",
    "# Инициализация DataFrame\n",
    "data = pd.DataFrame({\n",
    "    \"date\": np.repeat(date_range, users_per_day),\n",
    "    \"group\": np.nan,  # Будет заполнено позже\n",
    "    \"conversion\": np.nan,  # Будет заполнено позже\n",
    "    \"LTV\": np.nan  # Будет заполнено позже\n",
    "})\n",
    "\n",
    "# Заполнение групп аб теста\n",
    "data[\"group\"] = np.random.choice([0, 1], size=len(data))\n",
    "\n",
    "# Заполнение конверсий с небольшим преимуществом для группы 1\n",
    "conversion_rates = {0: 0.2, 1: 0.22}  # Небольшое преимущество для группы 1\n",
    "data[\"conversion\"] = data[\"group\"].map(lambda g: np.random.choice([0, 1], p=[1-conversion_rates[g], conversion_rates[g]]))\n",
    "\n",
    "# Заполнение LTV с небольшим преимуществом для группы 1\n",
    "ltv_means = {0: 100, 1: 110}  # Средние значения LTV для каждой группы\n",
    "ltv_std_dev = 20  # Стандартное отклонение LTV\n",
    "data[\"LTV\"] = data[\"group\"].map(lambda g: np.maximum(0, np.random.normal(ltv_means[g], ltv_std_dev)))\n",
    "\n",
    "data.head()"
   ]
  },
  {
   "cell_type": "markdown",
   "id": "589d11b7",
   "metadata": {},
   "source": [
    "# Анализ и тесты\n",
    "Здесь ваша практика"
   ]
  },
  {
   "cell_type": "code",
   "execution_count": 5,
   "id": "31a8a883",
   "metadata": {},
   "outputs": [],
   "source": [
    "# импортируем библиотеки для проведения анализа результата эксперимента\n",
    "\n",
    "from scipy.stats import (\n",
    "    mannwhitneyu, # https://docs.scipy.org/doc/scipy/reference/generated/scipy.stats.mannwhitneyu.html#scipy.stats.mannwhitneyu\n",
    "    chi2_contingency, # https://docs.scipy.org/doc/scipy/reference/generated/scipy.stats.chi2_contingency.html#scipy.stats.chi2_contingency\n",
    "    ttest_ind # https://docs.scipy.org/doc/scipy/reference/generated/scipy.stats.ttest_ind.html#scipy.stats.ttest_ind\n",
    "    )"
   ]
  },
  {
   "cell_type": "code",
   "execution_count": 8,
   "id": "58d8d5a5",
   "metadata": {},
   "outputs": [
    {
     "ename": "NameError",
     "evalue": "name 'data' is not defined",
     "output_type": "error",
     "traceback": [
      "\u001b[0;31m---------------------------------------------------------------------------\u001b[0m",
      "\u001b[0;31mNameError\u001b[0m                                 Traceback (most recent call last)",
      "Cell \u001b[0;32mIn[8], line 4\u001b[0m\n\u001b[1;32m      1\u001b[0m \u001b[38;5;66;03m# посмотрев на распределение гуппы конверсий в регистрацию,\u001b[39;00m\n\u001b[1;32m      2\u001b[0m \u001b[38;5;66;03m# можем сделать вывод, что у нас дискретные величины, к которым можно применить метод хи квадрата\u001b[39;00m\n\u001b[0;32m----> 4\u001b[0m \u001b[38;5;28;01mfor\u001b[39;00m group \u001b[38;5;129;01min\u001b[39;00m data\u001b[38;5;241m.\u001b[39mgroup\u001b[38;5;241m.\u001b[39munique():\n\u001b[1;32m      5\u001b[0m     data[data\u001b[38;5;241m.\u001b[39mgroup \u001b[38;5;241m==\u001b[39m group]\u001b[38;5;241m.\u001b[39mconversion\u001b[38;5;241m.\u001b[39mhist(bins\u001b[38;5;241m=\u001b[39m\u001b[38;5;241m3\u001b[39m, alpha\u001b[38;5;241m=\u001b[39m\u001b[38;5;241m.5\u001b[39m)\n",
      "\u001b[0;31mNameError\u001b[0m: name 'data' is not defined"
     ]
    }
   ],
   "source": [
    "# посмотрев на распределение гуппы конверсий в регистрацию,\n",
    "# можем сделать вывод, что у нас дискретные величины, к которым можно применить метод хи квадрата\n",
    "\n",
    "for group in data.group.unique():\n",
    "    data[data.group == group].conversion.hist(bins=3, alpha=.5)"
   ]
  },
  {
   "cell_type": "markdown",
   "id": "d2092d62",
   "metadata": {},
   "source": [
    "### Здесь необходимо рассчитать результатаы теста:"
   ]
  },
  {
   "cell_type": "code",
   "execution_count": 7,
   "id": "75b99ffa",
   "metadata": {},
   "outputs": [
    {
     "ename": "NameError",
     "evalue": "name 'data' is not defined",
     "output_type": "error",
     "traceback": [
      "\u001b[0;31m---------------------------------------------------------------------------\u001b[0m",
      "\u001b[0;31mNameError\u001b[0m                                 Traceback (most recent call last)",
      "Cell \u001b[0;32mIn[7], line 5\u001b[0m\n\u001b[1;32m      1\u001b[0m \u001b[38;5;66;03m# можно смело проводить анализ конверсии методом хи квадрата\u001b[39;00m\n\u001b[1;32m      2\u001b[0m \n\u001b[1;32m      3\u001b[0m \n\u001b[1;32m      4\u001b[0m \u001b[38;5;66;03m# подготовим данные в виде сводной таблицы\u001b[39;00m\n\u001b[0;32m----> 5\u001b[0m conversion_table \u001b[38;5;241m=\u001b[39m data\u001b[38;5;241m.\u001b[39mpivot_table(index\u001b[38;5;241m=\u001b[39m\u001b[38;5;124m'\u001b[39m\u001b[38;5;124mgroup\u001b[39m\u001b[38;5;124m'\u001b[39m, columns\u001b[38;5;241m=\u001b[39m\u001b[38;5;124m'\u001b[39m\u001b[38;5;124mconversion\u001b[39m\u001b[38;5;124m'\u001b[39m, aggfunc\u001b[38;5;241m=\u001b[39m\u001b[38;5;124m'\u001b[39m\u001b[38;5;124msize\u001b[39m\u001b[38;5;124m'\u001b[39m, fill_value\u001b[38;5;241m=\u001b[39m\u001b[38;5;241m0\u001b[39m)\n\u001b[1;32m      6\u001b[0m display(conversion_table)\n\u001b[1;32m      8\u001b[0m statistic, p_value, _, _ \u001b[38;5;241m=\u001b[39m chi2_contingency(conversion_table)\n",
      "\u001b[0;31mNameError\u001b[0m: name 'data' is not defined"
     ]
    }
   ],
   "source": [
    "# можно смело проводить анализ конверсии методом хи квадрата\n",
    "\n",
    "\n",
    "# подготовим данные в виде сводной таблицы\n",
    "conversion_table = data.pivot_table(index='group', columns='conversion', aggfunc='size', fill_value=0)\n",
    "display(conversion_table)\n",
    " \n",
    "statistic, p_value, _, _ = chi2_contingency(conversion_table)\n",
    "print ('Статистика:', statistic)\n",
    "print ('р-значение:', p_value)\n",
    "# Здесь необходимо провести анализ и сделать вывод, используя chi2_contingency"
   ]
  },
  {
   "cell_type": "code",
   "execution_count": 58,
   "id": "10112575",
   "metadata": {},
   "outputs": [
    {
     "data": {
      "text/html": [
       "<div>\n",
       "<style scoped>\n",
       "    .dataframe tbody tr th:only-of-type {\n",
       "        vertical-align: middle;\n",
       "    }\n",
       "\n",
       "    .dataframe tbody tr th {\n",
       "        vertical-align: top;\n",
       "    }\n",
       "\n",
       "    .dataframe thead tr th {\n",
       "        text-align: left;\n",
       "    }\n",
       "</style>\n",
       "<table border=\"1\" class=\"dataframe\">\n",
       "  <thead>\n",
       "    <tr>\n",
       "      <th></th>\n",
       "      <th>date</th>\n",
       "      <th>group</th>\n",
       "      <th>visit_to_reg</th>\n",
       "    </tr>\n",
       "    <tr>\n",
       "      <th></th>\n",
       "      <th></th>\n",
       "      <th></th>\n",
       "      <th></th>\n",
       "    </tr>\n",
       "  </thead>\n",
       "  <tbody>\n",
       "    <tr>\n",
       "      <th>0</th>\n",
       "      <td>2024-02-01</td>\n",
       "      <td>0</td>\n",
       "      <td>0.176471</td>\n",
       "    </tr>\n",
       "    <tr>\n",
       "      <th>1</th>\n",
       "      <td>2024-02-02</td>\n",
       "      <td>0</td>\n",
       "      <td>0.223404</td>\n",
       "    </tr>\n",
       "    <tr>\n",
       "      <th>2</th>\n",
       "      <td>2024-02-03</td>\n",
       "      <td>0</td>\n",
       "      <td>0.187500</td>\n",
       "    </tr>\n",
       "    <tr>\n",
       "      <th>3</th>\n",
       "      <td>2024-02-04</td>\n",
       "      <td>0</td>\n",
       "      <td>0.175926</td>\n",
       "    </tr>\n",
       "    <tr>\n",
       "      <th>4</th>\n",
       "      <td>2024-02-05</td>\n",
       "      <td>0</td>\n",
       "      <td>0.268750</td>\n",
       "    </tr>\n",
       "  </tbody>\n",
       "</table>\n",
       "</div>"
      ],
      "text/plain": [
       "        date group visit_to_reg\n",
       "                               \n",
       "0 2024-02-01     0     0.176471\n",
       "1 2024-02-02     0     0.223404\n",
       "2 2024-02-03     0     0.187500\n",
       "3 2024-02-04     0     0.175926\n",
       "4 2024-02-05     0     0.268750"
      ]
     },
     "metadata": {},
     "output_type": "display_data"
    },
    {
     "data": {
      "image/png": "[encoded data removed]",
      "text/plain": [
       "<Figure size 432x288 with 1 Axes>"
      ]
     },
     "metadata": {
      "needs_background": "light"
     },
     "output_type": "display_data"
    }
   ],
   "source": [
    "# подготовим данные для U и T тестов, преобразовав дискретные значения колонки conversion в неприрывные\n",
    "\n",
    "groupped_data = data.groupby(['group', 'date']).agg({ # группируем данные по дате и группе в тесте\n",
    "    'conversion': ['count', 'sum'], # подсчитываем число наблюдений и исло конвесий в день\n",
    "}).reset_index() # удаляем индекс, что бы индексы group и date после группировки стали обратно колонками\n",
    "\n",
    "# теперь расчитываем конверсию из визита в регистрацию, разделив число регистраций в день на число визитов в день\n",
    "groupped_data['visit_to_reg'] = groupped_data['conversion']['sum'] / groupped_data['conversion']['count']\n",
    "\n",
    "# оставляем только нужные нам колонки\n",
    "groupped_data = groupped_data[['date', 'group', 'visit_to_reg']]\n",
    "display(groupped_data.head())\n",
    "\n",
    "for group in groupped_data.group.unique():\n",
    "    groupped_data[groupped_data.group == group].visit_to_reg.hist(bins=5, alpha=.5)"
   ]
  },
  {
   "cell_type": "code",
   "execution_count": 37,
   "id": "f60f2476",
   "metadata": {
    "scrolled": true
   },
   "outputs": [
    {
     "data": {
      "image/png": "[encoded data removed]",
      "text/plain": [
       "<Figure size 432x288 with 1 Axes>"
      ]
     },
     "metadata": {
      "needs_background": "light"
     },
     "output_type": "display_data"
    }
   ],
   "source": [
    "# Смотрим, как распределяются данные LTV\n",
    "\n",
    "for group in data.group.unique():\n",
    "    data[data.group == group].LTV.hist(bins=50, alpha=.5)"
   ]
  },
  {
   "cell_type": "code",
   "execution_count": 67,
   "id": "3026b7e3",
   "metadata": {},
   "outputs": [
    {
     "name": "stdout",
     "output_type": "stream",
     "text": [
      "shapiro_visit_to_reg:\n",
      "{0: ShapiroResult(statistic=0.9699720740318298, pvalue=0.6443614363670349), 1: ShapiroResult(statistic=0.9599429368972778, pvalue=0.41334009170532227)}\n",
      "\n",
      "shapiro_ltv:\n",
      "{1: ShapiroResult(statistic=0.999697208404541, pvalue=0.9122394323348999), 0: ShapiroResult(statistic=0.999453604221344, pvalue=0.4164045751094818)}\n"
     ]
    }
   ],
   "source": [
    "# проверяем оба наших набора данных методом Шапиро-Уилка на нормальность распределения,\n",
    "# и как следствие возможность применения t-теста\n",
    "\n",
    "from scipy.stats import shapiro\n",
    "\n",
    "shapiro_visit_to_reg = {group: shapiro(groupped_data[groupped_data.group == group].visit_to_reg.values) for group in groupped_data.group.unique()}\n",
    "shapiro_ltv = {group: shapiro(data[data.group == group].LTV.values) for group in data.group.unique()}\n",
    "\n",
    "print('shapiro_visit_to_reg:')\n",
    "print(shapiro_visit_to_reg)\n",
    "print()\n",
    "print('shapiro_ltv:')\n",
    "print(shapiro_ltv)    "
   ]
  },
  {
   "cell_type": "markdown",
   "id": "cfa007f5",
   "metadata": {},
   "source": [
    "p-значение обоих распределений больше 0.05, что говорит о возможности применения t-теста для всех наших метрик."
   ]
  },
  {
   "cell_type": "markdown",
   "id": "9876deb4",
   "metadata": {},
   "source": [
    "### Здесь необходимо рассчитать результатаы теста для конверсий и LTV:"
   ]
  },
  {
   "cell_type": "code",
   "execution_count": 2,
   "id": "1d567552",
   "metadata": {},
   "outputs": [
    {
     "ename": "IndentationError",
     "evalue": "unexpected indent (3021086329.py, line 2)",
     "output_type": "error",
     "traceback": [
      "\u001b[0;36m  Cell \u001b[0;32mIn[2], line 2\u001b[0;36m\u001b[0m\n\u001b[0;31m    t_stat_visit_to_reg, p_value_visit_to_reg = ttest_ind(groupped_data[groupped_data.group == 'A'].visit_to_reg, groupped_data[groupped_data.group == 'B'].visit_to_reg)\u001b[0m\n\u001b[0m    ^\u001b[0m\n\u001b[0;31mIndentationError\u001b[0m\u001b[0;31m:\u001b[0m unexpected indent\n"
     ]
    }
   ],
   "source": [
    "# t-тест для visit_to_reg\n",
    "t_stat_visit_to_reg, p_value_visit_to_reg = ttest_ind(groupped_data[groupped_data.group == 'A'].visit_to_reg, groupped_data[groupped_data.group == 'B'].visit_to_reg)\n",
    "print('t-тест для visit_to_reg:')\n",
    "print(f't-statistic: {t_stat_visit_to_reg}, p-value: {p_value_visit_to_reg}')\n",
    "\n",
    "# t-тест для LTV\n",
    "t_stat_ltv, p_value_ltv = ttest_ind(data[data.group == 'A'].LTV, data[data.group == 'B'].LTV)\n",
    "print('t-тест для LTV:')\n",
    "print(f't-statistic: {t_stat_ltv}, p-value: {p_value_ltv}')\n",
    "\n",
    "# U-тест для LTV\n",
    "u_stat_ltv, p_value_ltv_u = mannwhitneyu(data[data.group == 'A'].LTV, data[data.group == 'B'].LTV)\n",
    "print('U-тест для LTV:')\n",
    "print(f'U-statistic: {u_stat_ltv}, p-value: {p_value_ltv_u}')"
   ]
  },
  {
   "cell_type": "markdown",
   "id": "9f37a75a",
   "metadata": {},
   "source": [
    "### Сравните результаты всех тестов и сделайте выводы:"
   ]
  },
  {
   "cell_type": "code",
   "execution_count": null,
   "id": "aa554ac2",
   "metadata": {},
   "outputs": [],
   "source": []
  }
 ],
 "metadata": {
  "kernelspec": {
   "display_name": "Python 3 (ipykernel)",
   "language": "python",
   "name": "python3"
  },
  "language_info": {
   "codemirror_mode": {
    "name": "ipython",
    "version": 3
   },
   "file_extension": ".py",
   "mimetype": "text/x-python",
   "name": "python",
   "nbconvert_exporter": "python",
   "pygments_lexer": "ipython3",
   "version": "3.11.5"
  }
 },
 "nbformat": 4,
 "nbformat_minor": 5
}
