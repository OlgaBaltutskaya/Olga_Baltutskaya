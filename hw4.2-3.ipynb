{
 "cells": [
  {
   "cell_type": "code",
   "execution_count": 7,
   "id": "f02bdd9e",
   "metadata": {},
   "outputs": [
    {
     "name": "stdout",
     "output_type": "stream",
     "text": [
      "[(1, 'Charlie', 40), (2, 'Mars', 31)]\n"
     ]
    }
   ],
   "source": [
    "#Создайте таблицу в базе данных и добавьте в нее несколько записей.\n",
    "\n",
    "import psycopg2\n",
    "conn = psycopg2.connect(\n",
    "    dbname='postgres',\n",
    "    user='postgres',\n",
    "    password='0990',\n",
    "    host='localhost',\n",
    "    port=5432\n",
    ")\n",
    "cursor = conn.cursor()\n",
    "\n",
    "cursor.execute('''CREATE TABLE people (id SERIAL PRIMARY KEY, name VARCHAR, age INT)''')\n",
    "\n",
    "cursor.execute(\"INSERT INTO people (name, age) VALUES ('Charlie', 40)\")\n",
    "cursor.execute(\"INSERT INTO people (name, age) VALUES ('Mars', 31)\")\n",
    "\n",
    "cursor.execute(\"SELECT * FROM people\")\n",
    "print(cursor.fetchall())\n",
    "\n",
    "# Закрытие соединения\n",
    "conn.commit()\n",
    "conn.close()"
   ]
  },
  {
   "cell_type": "code",
   "execution_count": 8,
   "id": "1e2e2de5",
   "metadata": {},
   "outputs": [
    {
     "name": "stdout",
     "output_type": "stream",
     "text": [
      "(1, 'Charlie', 40)\n",
      "(2, 'Mars', 31)\n"
     ]
    }
   ],
   "source": [
    "#Напишите SQL-запросы для извлечения данных из созданной таблицы. Все записи.\n",
    "import psycopg2\n",
    "conn = psycopg2.connect(\n",
    "    dbname='postgres',\n",
    "    user='postgres',\n",
    "    password='0990',\n",
    "    host='localhost',\n",
    "    port=5432\n",
    ")\n",
    "cursor = conn.cursor()\n",
    "cursor.execute(\"SELECT * FROM people\")\n",
    "rows = cursor.fetchall()\n",
    "\n",
    "# Вывод результатов\n",
    "for row in rows:\n",
    "    print(row)\n",
    "\n",
    "\n",
    "conn.commit()\n",
    "conn.close()"
   ]
  },
  {
   "cell_type": "code",
   "execution_count": 9,
   "id": "8cedc90b",
   "metadata": {},
   "outputs": [
    {
     "name": "stdout",
     "output_type": "stream",
     "text": [
      "(2, 'Mars', 31)\n"
     ]
    }
   ],
   "source": [
    "#Напишите SQL-запросы для извлечения данных из созданной таблицы. Часть записей.\n",
    "import psycopg2\n",
    "conn = psycopg2.connect(\n",
    "    dbname='postgres',\n",
    "    user='postgres',\n",
    "    password='0990',\n",
    "    host='localhost',\n",
    "    port=5432\n",
    ")\n",
    "cursor = conn.cursor()\n",
    "cursor.execute(\"SELECT * FROM people WHERE age < 35\")\n",
    "rows = cursor.fetchall()\n",
    "\n",
    "# Вывод результатов\n",
    "for row in rows:\n",
    "    print(row)\n",
    "\n",
    "\n",
    "conn.commit()\n",
    "conn.close()"
   ]
  },
  {
   "cell_type": "code",
   "execution_count": 11,
   "id": "42e72075",
   "metadata": {},
   "outputs": [
    {
     "name": "stdout",
     "output_type": "stream",
     "text": [
      "Средний возраст: 35.5000000000000000\n"
     ]
    }
   ],
   "source": [
    "#Изучите SQL-запросы для выполнения агрегации данных. Среднее значение.\n",
    "import psycopg2\n",
    "conn = psycopg2.connect(\n",
    "    dbname='postgres',\n",
    "    user='postgres',\n",
    "    password='0990',\n",
    "    host='localhost',\n",
    "    port=5432\n",
    ")\n",
    "cursor = conn.cursor()\n",
    "cursor.execute(\"SELECT AVG(age) FROM people\")\n",
    "avg_age = cursor.fetchone()[0]\n",
    "print(\"Средний возраст:\", avg_age)\n",
    "\n",
    "\n",
    "conn.commit()\n",
    "conn.close()"
   ]
  },
  {
   "cell_type": "code",
   "execution_count": 13,
   "id": "3b0bf987",
   "metadata": {},
   "outputs": [
    {
     "name": "stdout",
     "output_type": "stream",
     "text": [
      "('Charlie', 40)\n"
     ]
    }
   ],
   "source": [
    "#Создайте представление (VIEW) в базе данных на основе существующей таблицы и выполните запрос к нему.\n",
    "import psycopg2\n",
    "conn = psycopg2.connect(\n",
    "    dbname='postgres',\n",
    "    user='postgres',\n",
    "    password='0990',\n",
    "    host='localhost',\n",
    "    port=5432\n",
    ")\n",
    "cursor = conn.cursor()\n",
    "cursor.execute('''CREATE VIEW people_view AS SELECT name, age FROM people WHERE age = 40''')\n",
    "cursor.execute(\"SELECT * FROM people_view\")\n",
    "rows = cursor.fetchall()\n",
    "for row in rows:\n",
    "    print(row)\n",
    "\n",
    "\n",
    "conn.commit()\n",
    "conn.close()"
   ]
  },
  {
   "cell_type": "code",
   "execution_count": 14,
   "id": "2f2cac04",
   "metadata": {},
   "outputs": [
    {
     "name": "stdout",
     "output_type": "stream",
     "text": [
      "[(1, 'Kamilla', 25), (2, 'Lilit', 5)]\n"
     ]
    }
   ],
   "source": [
    "#Создала 2ую таблицу для 3 части.\n",
    "\n",
    "import psycopg2\n",
    "conn = psycopg2.connect(\n",
    "    dbname='postgres',\n",
    "    user='postgres',\n",
    "    password='0990',\n",
    "    host='localhost',\n",
    "    port=5432\n",
    ")\n",
    "cursor = conn.cursor()\n",
    "\n",
    "cursor.execute('''CREATE TABLE people_2 (id SERIAL PRIMARY KEY, name VARCHAR, age INT)''')\n",
    "\n",
    "# Вставка данных\n",
    "cursor.execute(\"INSERT INTO people_2 (name, age) VALUES ('Kamilla', 25)\")\n",
    "cursor.execute(\"INSERT INTO people_2 (name, age) VALUES ('Lilit', 5)\")\n",
    "# Запрос данных\n",
    "cursor.execute(\"SELECT * FROM people_2\")\n",
    "print(cursor.fetchall())\n",
    "\n",
    "# Закрытие соединения\n",
    "conn.commit()\n",
    "conn.close()"
   ]
  },
  {
   "cell_type": "code",
   "execution_count": 37,
   "id": "d42df766",
   "metadata": {},
   "outputs": [
    {
     "name": "stdout",
     "output_type": "stream",
     "text": [
      "[(1, 'Kamilla', 25), (2, 'Lilit', 5)]\n"
     ]
    }
   ],
   "source": [
    "#Напишите SQL-запрос с использованием подзапросов (subqueries) для выбора данных из нескольких таблиц.\n",
    "import psycopg2\n",
    "conn = psycopg2.connect(\n",
    "    dbname='postgres',\n",
    "    user='postgres',\n",
    "    password='0990',\n",
    "    host='localhost',\n",
    "    port=5432\n",
    ")\n",
    "cursor = conn.cursor()\n",
    "cursor.execute(\"SELECT * FROM people_2 WHERE age NOT IN (SELECT age FROM people)\")\n",
    "\n",
    "print(cursor.fetchall())\n",
    "\n",
    "\n",
    "conn.commit()\n",
    "conn.close()\n",
    "\n",
    "\n",
    "\n",
    "\n",
    "\n",
    "\n"
   ]
  },
  {
   "cell_type": "code",
   "execution_count": 36,
   "id": "1d4c03e9",
   "metadata": {},
   "outputs": [
    {
     "name": "stdout",
     "output_type": "stream",
     "text": [
      "[('Kamilla', 25, 40, 'Charlie'), ('Lilit', 5, 31, 'Mars')]\n"
     ]
    }
   ],
   "source": [
    "#Используйте JOIN-операции для объединения данных из двух таблиц.\n",
    "import psycopg2\n",
    "conn = psycopg2.connect(\n",
    "    dbname='postgres',\n",
    "    user='postgres',\n",
    "    password='0990',\n",
    "    host='localhost',\n",
    "    port=5432\n",
    ")\n",
    "cursor = conn.cursor()\n",
    "cursor.execute(\"SELECT people_2.name, people_2.age, people.age, people.name FROM people_2 FULL JOIN people ON people_2.id=people.id\")\n",
    "\n",
    "print(cursor.fetchall())\n",
    "\n",
    "\n",
    "conn.commit()\n",
    "conn.close()\n"
   ]
  },
  {
   "cell_type": "code",
   "execution_count": 88,
   "id": "8594f479",
   "metadata": {},
   "outputs": [
    {
     "name": "stdout",
     "output_type": "stream",
     "text": [
      "befor: 0.004985809326171875\n",
      "after: 0.0006420612335205078\n"
     ]
    }
   ],
   "source": [
    "#Создайте индекс на одной из таблиц и измерьте производительность запроса до и после создания индекса.\n",
    "import time\n",
    "import psycopg2\n",
    "conn = psycopg2.connect(\n",
    "    dbname='postgres',\n",
    "    user='postgres',\n",
    "    password='0990',\n",
    "    host='localhost',\n",
    "    port=5432\n",
    ")\n",
    "cursor = conn.cursor()\n",
    "cursor.execute('CREATE INDEX idx_age ON people_2 (age)')\n",
    "\n",
    "\n",
    "#Измерение производительности запроса до создания индекса\n",
    "start_time = time.time()\n",
    "cursor.execute(\"SELECT * FROM people_2 WHERE age = '25'\")\n",
    "rows = cursor.fetchall()\n",
    "end_time = time.time ()\n",
    "execution_time_before = end_time - start_time\n",
    "print (\"befor:\", execution_time_before)\n",
    "\n",
    "#Измерение производительности запроса после создания индекса\n",
    "start_time = time.time()\n",
    "cursor.execute(\"SELECT * FROM people_2 WHERE age ='25'\")\n",
    "rows = cursor.fetchall()\n",
    "end_time = time.time ()\n",
    "execution_time_after = end_time - start_time\n",
    "print (\"after:\", execution_time_after)\n",
    "\n",
    "\n",
    "conn.commit()\n",
    "conn.close()"
   ]
  },
  {
   "cell_type": "code",
   "execution_count": 65,
   "id": "f1a7008e",
   "metadata": {},
   "outputs": [
    {
     "data": {
      "text/plain": [
       "('Charlie', 40, 71)"
      ]
     },
     "metadata": {},
     "output_type": "display_data"
    },
    {
     "data": {
      "text/plain": [
       "('Mars', 31, 71)"
      ]
     },
     "metadata": {},
     "output_type": "display_data"
    }
   ],
   "source": [
    "#Разработайте SQL-запрос с использованием оконных функций (window functions) для анализа данных внутри окна.\n",
    "import psycopg2\n",
    "conn = psycopg2.connect(\n",
    "    dbname='postgres',\n",
    "    user='postgres',\n",
    "    password='0990',\n",
    "    host='localhost',\n",
    "    port=5432\n",
    ")\n",
    "cursor = conn.cursor()\n",
    "cursor.execute('SELECT name, age, SUM(age) OVER () FROM people')\n",
    "sofs = cursor.fetchall()\n",
    "for sof in sofs:\n",
    "    display(sof)\n",
    "\n",
    "\n",
    "\n",
    "\n",
    "conn.commit()\n",
    "conn.close()"
   ]
  },
  {
   "cell_type": "code",
   "execution_count": 101,
   "id": "479b7989",
   "metadata": {},
   "outputs": [],
   "source": [
    "#Изучите и примените операторы DDL (CREATE, ALTER, DROP) для управления структурой базы данных.\n",
    "\n",
    "\n",
    "import psycopg2\n",
    "conn = psycopg2.connect(\n",
    "    dbname='postgres',\n",
    "    user='postgres',\n",
    "    password='0990',\n",
    "    host='localhost',\n",
    "    port=5432\n",
    ")\n",
    "cursor = conn.cursor()\n",
    "\n",
    "cursor.execute('''CREATE TABLE NewTab (id SERIAL PRIMARY KEY, name VARCHAR, age INT)''')\n",
    "\n",
    "cursor.execute('ALTER TABLE NewTab ADD COLUMN characteristic VARCHAR')\n",
    "\n",
    "cursor.execute('DROP TABLE NewTab')\n",
    "\n",
    "\n",
    "conn.commit()\n",
    "conn.close()"
   ]
  },
  {
   "cell_type": "code",
   "execution_count": null,
   "id": "c53d7196",
   "metadata": {},
   "outputs": [],
   "source": []
  }
 ],
 "metadata": {
  "kernelspec": {
   "display_name": "Python 3 (ipykernel)",
   "language": "python",
   "name": "python3"
  },
  "language_info": {
   "codemirror_mode": {
    "name": "ipython",
    "version": 3
   },
   "file_extension": ".py",
   "mimetype": "text/x-python",
   "name": "python",
   "nbconvert_exporter": "python",
   "pygments_lexer": "ipython3",
   "version": "3.11.5"
  }
 },
 "nbformat": 4,
 "nbformat_minor": 5
}
