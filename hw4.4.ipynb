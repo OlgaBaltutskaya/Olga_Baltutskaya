{
 "cells": [
  {
   "cell_type": "code",
   "execution_count": 3,
   "id": "7ad2fc7a",
   "metadata": {},
   "outputs": [
    {
     "name": "stdout",
     "output_type": "stream",
     "text": [
      "1 - Регистрация, 2 - Вход 2\n",
      "Имя: olga\n",
      "Пароль: 0990\n",
      "Успешно!\n"
     ]
    }
   ],
   "source": [
    "#Рассмотрите принципы аутентификации и создайте простую систему аутентификации на Python.\n",
    "#Изучите принципы хранения паролей безопасным образом (например, с использованием хеширования) и реализуйте это в своей системе аутентификации.\n",
    "import hashlib\n",
    "\n",
    "def register():\n",
    "    username = input(\"Ведите имя: \")\n",
    "    password = input(\"Ведите пароль: \")\n",
    "\n",
    "    hashed_password = hashlib.sha256(password.encode()).hexdigest()\n",
    "\n",
    "    \n",
    "    with open(\"users.txt\", \"a\") as file:\n",
    "        file.write(f\"{username}:{hashed_password}\\n\")\n",
    "\n",
    "    print(\"Успешно!\")\n",
    "\n",
    "    \n",
    "def login():\n",
    "    username = input(\"Имя: \")\n",
    "    password = input(\"Пароль: \")\n",
    "\n",
    "    hashed_password = hashlib.sha256(password.encode()).hexdigest()\n",
    "\n",
    "\n",
    "    with open(\"users.txt\", \"r\") as file:\n",
    "        for line in file:\n",
    "            stored_username, stored_password = line.strip().split(\":\")\n",
    "            if username == stored_username and hashed_password == stored_password:\n",
    "                print(\"Успешно!\")\n",
    "                return\n",
    "\n",
    "    print(\"Неверное имя\\пароль.\")\n",
    "\n",
    "\n",
    "while True:\n",
    "    choice = input(\"1 - Регистрация, 2 - Вход \")\n",
    "\n",
    "    if choice == \"1\":\n",
    "        register()\n",
    "        break\n",
    "    elif choice == \"2\":\n",
    "        login()\n",
    "        break\n",
    "    else:\n",
    "        print(\"Выбери 1 или 2\")"
   ]
  },
  {
   "cell_type": "code",
   "execution_count": null,
   "id": "a142b87e",
   "metadata": {},
   "outputs": [],
   "source": [
    "\n"
   ]
  }
 ],
 "metadata": {
  "kernelspec": {
   "display_name": "Python 3 (ipykernel)",
   "language": "python",
   "name": "python3"
  },
  "language_info": {
   "codemirror_mode": {
    "name": "ipython",
    "version": 3
   },
   "file_extension": ".py",
   "mimetype": "text/x-python",
   "name": "python",
   "nbconvert_exporter": "python",
   "pygments_lexer": "ipython3",
   "version": "3.11.5"
  }
 },
 "nbformat": 4,
 "nbformat_minor": 5
}
