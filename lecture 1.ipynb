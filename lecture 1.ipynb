{
 "cells": [
  {
   "cell_type": "code",
   "execution_count": 1,
   "id": "d7bf2260",
   "metadata": {},
   "outputs": [],
   "source": [
    "list = [1, 11, 12, 13, 14, 15, 16, 17, 18, 19]"
   ]
  },
  {
   "cell_type": "code",
   "execution_count": 2,
   "id": "e744ee71",
   "metadata": {},
   "outputs": [
    {
     "name": "stdout",
     "output_type": "stream",
     "text": [
      "[19, 18, 17, 16, 15, 14, 13, 12, 11, 1]\n"
     ]
    }
   ],
   "source": [
    "for i in range(len(list) -1, -1, -1):\n",
    "    list.append(list[i])\n",
    "    del list[i]\n",
    "print(list)"
   ]
  },
  {
   "cell_type": "code",
   "execution_count": 3,
   "id": "57186cc4",
   "metadata": {},
   "outputs": [
    {
     "name": "stdout",
     "output_type": "stream",
     "text": [
      "19 нечетное\n",
      "18 четное\n",
      "17 нечетное\n",
      "16 четное\n",
      "15 нечетное\n",
      "14 четное\n",
      "13 нечетное\n",
      "12 четное\n",
      "11 нечетное\n",
      "1 нечетное\n"
     ]
    }
   ],
   "source": [
    "i = 0\n",
    "while i < len(list):\n",
    "    if list[i] % 2 == 0:\n",
    "        print(list[i], 'четное')\n",
    "    else:\n",
    "        print(list[i], 'нечетное')\n",
    "    i += 1"
   ]
  },
  {
   "cell_type": "code",
   "execution_count": null,
   "id": "41c0abb6",
   "metadata": {},
   "outputs": [],
   "source": []
  }
 ],
 "metadata": {
  "kernelspec": {
   "display_name": "Python 3 (ipykernel)",
   "language": "python",
   "name": "python3"
  },
  "language_info": {
   "codemirror_mode": {
    "name": "ipython",
    "version": 3
   },
   "file_extension": ".py",
   "mimetype": "text/x-python",
   "name": "python",
   "nbconvert_exporter": "python",
   "pygments_lexer": "ipython3",
   "version": "3.11.5"
  }
 },
 "nbformat": 4,
 "nbformat_minor": 5
}
